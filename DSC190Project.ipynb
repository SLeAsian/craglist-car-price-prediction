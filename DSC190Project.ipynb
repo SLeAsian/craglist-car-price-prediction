{
 "cells": [
  {
   "cell_type": "code",
   "execution_count": 1,
   "metadata": {},
   "outputs": [],
   "source": [
    "import pandas as pd\n",
    "import matplotlib.pyplot as plt\n",
    "import numpy as np\n",
    "import seaborn as sns\n",
    "import warnings\n",
    "warnings.filterwarnings(\"ignore\")"
   ]
  },
  {
   "cell_type": "code",
   "execution_count": 2,
   "metadata": {},
   "outputs": [],
   "source": [
    "vehicles = pd.read_csv(\"vehicles.csv\")"
   ]
  },
  {
   "cell_type": "code",
   "execution_count": 3,
   "metadata": {},
   "outputs": [],
   "source": [
    "pd.set_option('display.max_columns', None)\n",
    "pd.set_option('display.max_rows', None)"
   ]
  },
  {
   "cell_type": "code",
   "execution_count": 4,
   "metadata": {},
   "outputs": [
    {
     "data": {
      "text/html": [
       "<div>\n",
       "<style scoped>\n",
       "    .dataframe tbody tr th:only-of-type {\n",
       "        vertical-align: middle;\n",
       "    }\n",
       "\n",
       "    .dataframe tbody tr th {\n",
       "        vertical-align: top;\n",
       "    }\n",
       "\n",
       "    .dataframe thead th {\n",
       "        text-align: right;\n",
       "    }\n",
       "</style>\n",
       "<table border=\"1\" class=\"dataframe\">\n",
       "  <thead>\n",
       "    <tr style=\"text-align: right;\">\n",
       "      <th></th>\n",
       "      <th>id</th>\n",
       "      <th>url</th>\n",
       "      <th>region</th>\n",
       "      <th>region_url</th>\n",
       "      <th>price</th>\n",
       "      <th>year</th>\n",
       "      <th>manufacturer</th>\n",
       "      <th>model</th>\n",
       "      <th>condition</th>\n",
       "      <th>cylinders</th>\n",
       "      <th>fuel</th>\n",
       "      <th>odometer</th>\n",
       "      <th>title_status</th>\n",
       "      <th>transmission</th>\n",
       "      <th>vin</th>\n",
       "      <th>drive</th>\n",
       "      <th>size</th>\n",
       "      <th>type</th>\n",
       "      <th>paint_color</th>\n",
       "      <th>image_url</th>\n",
       "      <th>description</th>\n",
       "      <th>county</th>\n",
       "      <th>state</th>\n",
       "      <th>lat</th>\n",
       "      <th>long</th>\n",
       "    </tr>\n",
       "  </thead>\n",
       "  <tbody>\n",
       "    <tr>\n",
       "      <th>0</th>\n",
       "      <td>7088746062</td>\n",
       "      <td>https://greensboro.craigslist.org/ctd/d/cary-2...</td>\n",
       "      <td>greensboro</td>\n",
       "      <td>https://greensboro.craigslist.org</td>\n",
       "      <td>10299</td>\n",
       "      <td>2012.0</td>\n",
       "      <td>acura</td>\n",
       "      <td>tl</td>\n",
       "      <td>NaN</td>\n",
       "      <td>NaN</td>\n",
       "      <td>gas</td>\n",
       "      <td>90186.0</td>\n",
       "      <td>clean</td>\n",
       "      <td>automatic</td>\n",
       "      <td>19UUA8F22CA003926</td>\n",
       "      <td>NaN</td>\n",
       "      <td>NaN</td>\n",
       "      <td>other</td>\n",
       "      <td>blue</td>\n",
       "      <td>https://images.craigslist.org/01414_3LIXs9EO33...</td>\n",
       "      <td>2012 Acura TL Base 4dr Sedan     Offered by: B...</td>\n",
       "      <td>NaN</td>\n",
       "      <td>nc</td>\n",
       "      <td>35.7636</td>\n",
       "      <td>-78.7443</td>\n",
       "    </tr>\n",
       "    <tr>\n",
       "      <th>1</th>\n",
       "      <td>7088745301</td>\n",
       "      <td>https://greensboro.craigslist.org/ctd/d/bmw-3-...</td>\n",
       "      <td>greensboro</td>\n",
       "      <td>https://greensboro.craigslist.org</td>\n",
       "      <td>0</td>\n",
       "      <td>2011.0</td>\n",
       "      <td>bmw</td>\n",
       "      <td>335</td>\n",
       "      <td>NaN</td>\n",
       "      <td>6 cylinders</td>\n",
       "      <td>gas</td>\n",
       "      <td>115120.0</td>\n",
       "      <td>clean</td>\n",
       "      <td>automatic</td>\n",
       "      <td>NaN</td>\n",
       "      <td>rwd</td>\n",
       "      <td>NaN</td>\n",
       "      <td>convertible</td>\n",
       "      <td>blue</td>\n",
       "      <td>https://images.craigslist.org/00S0S_1kTatLGLxB...</td>\n",
       "      <td>BMW 3 Series 335i Convertible Navigation Dakot...</td>\n",
       "      <td>NaN</td>\n",
       "      <td>nc</td>\n",
       "      <td>NaN</td>\n",
       "      <td>NaN</td>\n",
       "    </tr>\n",
       "    <tr>\n",
       "      <th>2</th>\n",
       "      <td>7088744126</td>\n",
       "      <td>https://greensboro.craigslist.org/cto/d/greens...</td>\n",
       "      <td>greensboro</td>\n",
       "      <td>https://greensboro.craigslist.org</td>\n",
       "      <td>9500</td>\n",
       "      <td>2011.0</td>\n",
       "      <td>jaguar</td>\n",
       "      <td>xf</td>\n",
       "      <td>excellent</td>\n",
       "      <td>NaN</td>\n",
       "      <td>gas</td>\n",
       "      <td>85000.0</td>\n",
       "      <td>clean</td>\n",
       "      <td>automatic</td>\n",
       "      <td>NaN</td>\n",
       "      <td>NaN</td>\n",
       "      <td>NaN</td>\n",
       "      <td>NaN</td>\n",
       "      <td>blue</td>\n",
       "      <td>https://images.craigslist.org/00505_f22HGItCRp...</td>\n",
       "      <td>2011 jaguar XF premium - estate sale. Retired ...</td>\n",
       "      <td>NaN</td>\n",
       "      <td>nc</td>\n",
       "      <td>36.1032</td>\n",
       "      <td>-79.8794</td>\n",
       "    </tr>\n",
       "    <tr>\n",
       "      <th>3</th>\n",
       "      <td>7088743681</td>\n",
       "      <td>https://greensboro.craigslist.org/ctd/d/cary-2...</td>\n",
       "      <td>greensboro</td>\n",
       "      <td>https://greensboro.craigslist.org</td>\n",
       "      <td>3995</td>\n",
       "      <td>2004.0</td>\n",
       "      <td>honda</td>\n",
       "      <td>element</td>\n",
       "      <td>NaN</td>\n",
       "      <td>NaN</td>\n",
       "      <td>gas</td>\n",
       "      <td>212526.0</td>\n",
       "      <td>clean</td>\n",
       "      <td>automatic</td>\n",
       "      <td>5J6YH18314L006498</td>\n",
       "      <td>fwd</td>\n",
       "      <td>NaN</td>\n",
       "      <td>SUV</td>\n",
       "      <td>orange</td>\n",
       "      <td>https://images.craigslist.org/00E0E_eAUnhFF86M...</td>\n",
       "      <td>2004 Honda Element LX 4dr SUV     Offered by: ...</td>\n",
       "      <td>NaN</td>\n",
       "      <td>nc</td>\n",
       "      <td>35.7636</td>\n",
       "      <td>-78.7443</td>\n",
       "    </tr>\n",
       "    <tr>\n",
       "      <th>4</th>\n",
       "      <td>7074612539</td>\n",
       "      <td>https://lincoln.craigslist.org/ctd/d/gretna-20...</td>\n",
       "      <td>lincoln</td>\n",
       "      <td>https://lincoln.craigslist.org</td>\n",
       "      <td>41988</td>\n",
       "      <td>2016.0</td>\n",
       "      <td>chevrolet</td>\n",
       "      <td>silverado k2500hd</td>\n",
       "      <td>NaN</td>\n",
       "      <td>NaN</td>\n",
       "      <td>gas</td>\n",
       "      <td>NaN</td>\n",
       "      <td>clean</td>\n",
       "      <td>automatic</td>\n",
       "      <td>1GC1KWE85GF266427</td>\n",
       "      <td>NaN</td>\n",
       "      <td>NaN</td>\n",
       "      <td>NaN</td>\n",
       "      <td>NaN</td>\n",
       "      <td>https://images.craigslist.org/00S0S_8msT7RQquO...</td>\n",
       "      <td>Shop Indoors, Heated Showroom!!!www.gretnaauto...</td>\n",
       "      <td>NaN</td>\n",
       "      <td>ne</td>\n",
       "      <td>41.1345</td>\n",
       "      <td>-96.2458</td>\n",
       "    </tr>\n",
       "  </tbody>\n",
       "</table>\n",
       "</div>"
      ],
      "text/plain": [
       "           id                                                url      region  \\\n",
       "0  7088746062  https://greensboro.craigslist.org/ctd/d/cary-2...  greensboro   \n",
       "1  7088745301  https://greensboro.craigslist.org/ctd/d/bmw-3-...  greensboro   \n",
       "2  7088744126  https://greensboro.craigslist.org/cto/d/greens...  greensboro   \n",
       "3  7088743681  https://greensboro.craigslist.org/ctd/d/cary-2...  greensboro   \n",
       "4  7074612539  https://lincoln.craigslist.org/ctd/d/gretna-20...     lincoln   \n",
       "\n",
       "                          region_url  price    year manufacturer  \\\n",
       "0  https://greensboro.craigslist.org  10299  2012.0        acura   \n",
       "1  https://greensboro.craigslist.org      0  2011.0          bmw   \n",
       "2  https://greensboro.craigslist.org   9500  2011.0       jaguar   \n",
       "3  https://greensboro.craigslist.org   3995  2004.0        honda   \n",
       "4     https://lincoln.craigslist.org  41988  2016.0    chevrolet   \n",
       "\n",
       "               model  condition    cylinders fuel  odometer title_status  \\\n",
       "0                 tl        NaN          NaN  gas   90186.0        clean   \n",
       "1                335        NaN  6 cylinders  gas  115120.0        clean   \n",
       "2                 xf  excellent          NaN  gas   85000.0        clean   \n",
       "3            element        NaN          NaN  gas  212526.0        clean   \n",
       "4  silverado k2500hd        NaN          NaN  gas       NaN        clean   \n",
       "\n",
       "  transmission                vin drive size         type paint_color  \\\n",
       "0    automatic  19UUA8F22CA003926   NaN  NaN        other        blue   \n",
       "1    automatic                NaN   rwd  NaN  convertible        blue   \n",
       "2    automatic                NaN   NaN  NaN          NaN        blue   \n",
       "3    automatic  5J6YH18314L006498   fwd  NaN          SUV      orange   \n",
       "4    automatic  1GC1KWE85GF266427   NaN  NaN          NaN         NaN   \n",
       "\n",
       "                                           image_url  \\\n",
       "0  https://images.craigslist.org/01414_3LIXs9EO33...   \n",
       "1  https://images.craigslist.org/00S0S_1kTatLGLxB...   \n",
       "2  https://images.craigslist.org/00505_f22HGItCRp...   \n",
       "3  https://images.craigslist.org/00E0E_eAUnhFF86M...   \n",
       "4  https://images.craigslist.org/00S0S_8msT7RQquO...   \n",
       "\n",
       "                                         description  county state      lat  \\\n",
       "0  2012 Acura TL Base 4dr Sedan     Offered by: B...     NaN    nc  35.7636   \n",
       "1  BMW 3 Series 335i Convertible Navigation Dakot...     NaN    nc      NaN   \n",
       "2  2011 jaguar XF premium - estate sale. Retired ...     NaN    nc  36.1032   \n",
       "3  2004 Honda Element LX 4dr SUV     Offered by: ...     NaN    nc  35.7636   \n",
       "4  Shop Indoors, Heated Showroom!!!www.gretnaauto...     NaN    ne  41.1345   \n",
       "\n",
       "      long  \n",
       "0 -78.7443  \n",
       "1      NaN  \n",
       "2 -79.8794  \n",
       "3 -78.7443  \n",
       "4 -96.2458  "
      ]
     },
     "execution_count": 4,
     "metadata": {},
     "output_type": "execute_result"
    }
   ],
   "source": [
    "vehicles.head()"
   ]
  },
  {
   "cell_type": "markdown",
   "metadata": {},
   "source": [
    "## 1. Data Cleaning"
   ]
  },
  {
   "cell_type": "markdown",
   "metadata": {},
   "source": [
    "# EDA"
   ]
  },
  {
   "cell_type": "code",
   "execution_count": 34,
   "metadata": {},
   "outputs": [
    {
     "data": {
      "text/html": [
       "<div>\n",
       "<style scoped>\n",
       "    .dataframe tbody tr th:only-of-type {\n",
       "        vertical-align: middle;\n",
       "    }\n",
       "\n",
       "    .dataframe tbody tr th {\n",
       "        vertical-align: top;\n",
       "    }\n",
       "\n",
       "    .dataframe thead th {\n",
       "        text-align: right;\n",
       "    }\n",
       "</style>\n",
       "<table border=\"1\" class=\"dataframe\">\n",
       "  <thead>\n",
       "    <tr style=\"text-align: right;\">\n",
       "      <th></th>\n",
       "      <th>price</th>\n",
       "      <th>year</th>\n",
       "      <th>cylinders</th>\n",
       "      <th>odometer</th>\n",
       "    </tr>\n",
       "  </thead>\n",
       "  <tbody>\n",
       "    <tr>\n",
       "      <th>count</th>\n",
       "      <td>483677.000000</td>\n",
       "      <td>483677.000000</td>\n",
       "      <td>483677.000000</td>\n",
       "      <td>483677.000000</td>\n",
       "    </tr>\n",
       "    <tr>\n",
       "      <th>mean</th>\n",
       "      <td>14000.427719</td>\n",
       "      <td>2009.361078</td>\n",
       "      <td>4.250053</td>\n",
       "      <td>101924.290207</td>\n",
       "    </tr>\n",
       "    <tr>\n",
       "      <th>std</th>\n",
       "      <td>11882.633685</td>\n",
       "      <td>9.971228</td>\n",
       "      <td>1.640145</td>\n",
       "      <td>58792.249416</td>\n",
       "    </tr>\n",
       "    <tr>\n",
       "      <th>min</th>\n",
       "      <td>503.000000</td>\n",
       "      <td>1819.000000</td>\n",
       "      <td>1.000000</td>\n",
       "      <td>0.000000</td>\n",
       "    </tr>\n",
       "    <tr>\n",
       "      <th>25%</th>\n",
       "      <td>5800.000000</td>\n",
       "      <td>2006.000000</td>\n",
       "      <td>3.000000</td>\n",
       "      <td>54377.000000</td>\n",
       "    </tr>\n",
       "    <tr>\n",
       "      <th>50%</th>\n",
       "      <td>10995.000000</td>\n",
       "      <td>2011.000000</td>\n",
       "      <td>5.000000</td>\n",
       "      <td>101380.000000</td>\n",
       "    </tr>\n",
       "    <tr>\n",
       "      <th>75%</th>\n",
       "      <td>18995.000000</td>\n",
       "      <td>2015.000000</td>\n",
       "      <td>6.000000</td>\n",
       "      <td>142163.000000</td>\n",
       "    </tr>\n",
       "    <tr>\n",
       "      <th>max</th>\n",
       "      <td>479000.000000</td>\n",
       "      <td>2021.000000</td>\n",
       "      <td>8.000000</td>\n",
       "      <td>499103.000000</td>\n",
       "    </tr>\n",
       "  </tbody>\n",
       "</table>\n",
       "</div>"
      ],
      "text/plain": [
       "               price           year      cylinders       odometer\n",
       "count  483677.000000  483677.000000  483677.000000  483677.000000\n",
       "mean    14000.427719    2009.361078       4.250053  101924.290207\n",
       "std     11882.633685       9.971228       1.640145   58792.249416\n",
       "min       503.000000    1819.000000       1.000000       0.000000\n",
       "25%      5800.000000    2006.000000       3.000000   54377.000000\n",
       "50%     10995.000000    2011.000000       5.000000  101380.000000\n",
       "75%     18995.000000    2015.000000       6.000000  142163.000000\n",
       "max    479000.000000    2021.000000       8.000000  499103.000000"
      ]
     },
     "execution_count": 34,
     "metadata": {},
     "output_type": "execute_result"
    }
   ],
   "source": [
    "vehiclesC.describe()"
   ]
  },
  {
   "cell_type": "code",
   "execution_count": 35,
   "metadata": {},
   "outputs": [
    {
     "data": {
      "text/plain": [
       "<matplotlib.axes._subplots.AxesSubplot at 0x1bbbc7e2048>"
      ]
     },
     "execution_count": 35,
     "metadata": {},
     "output_type": "execute_result"
    },
    {
     "data": {
      "image/png": "[encoded data removed]",
      "text/plain": [
       "<Figure size 432x288 with 1 Axes>"
      ]
     },
     "metadata": {
      "needs_background": "light"
     },
     "output_type": "display_data"
    }
   ],
   "source": [
    "vehiclesC[['odometer']].boxplot()"
   ]
  },
  {
   "cell_type": "markdown",
   "metadata": {},
   "source": [
    "# Data Selection"
   ]
  },
  {
   "cell_type": "code",
   "execution_count": 11,
   "metadata": {},
   "outputs": [],
   "source": [
    "vehiclesC = vehicles.copy()"
   ]
  },
  {
   "cell_type": "code",
   "execution_count": 12,
   "metadata": {},
   "outputs": [],
   "source": [
    "#drop columns that is not relevant or has repeated value\n",
    "vehiclesC = vehiclesC.drop(columns = ['size','county','condition','id','image_url','url','region_url','lat','long'])"
   ]
  },
  {
   "cell_type": "markdown",
   "metadata": {},
   "source": [
    "# Data Imputation"
   ]
  },
  {
   "cell_type": "code",
   "execution_count": 15,
   "metadata": {},
   "outputs": [
    {
     "data": {
      "text/plain": [
       "region          0.000000\n",
       "price           0.000000\n",
       "state           0.000000\n",
       "description     0.000043\n",
       "year            0.001916\n",
       "title_status    0.005390\n",
       "fuel            0.006411\n",
       "transmission    0.006948\n",
       "model           0.014081\n",
       "manufacturer    0.041411\n",
       "odometer        0.175127\n",
       "type            0.273519\n",
       "drive           0.285927\n",
       "paint_color     0.316527\n",
       "cylinders       0.395533\n",
       "vin             0.422931\n",
       "dtype: float64"
      ]
     },
     "execution_count": 15,
     "metadata": {},
     "output_type": "execute_result"
    }
   ],
   "source": [
    "#proportion of null values before imputation\n",
    "(vehiclesC.isnull().sum()/vehiclesC.shape[0]).sort_values()"
   ]
  },
  {
   "cell_type": "code",
   "execution_count": 16,
   "metadata": {},
   "outputs": [],
   "source": [
    "# clean features base on descriptions\n",
    "def column_cleaner(row):\n",
    "    if pd.isna(row[col]):\n",
    "        if pd.isna(row['description']) == False:\n",
    "            lst = row['description'].lower().split(' ')\n",
    "            for i in lst:\n",
    "                if i in unique_values:\n",
    "                    return i\n",
    "            else:\n",
    "                return row[col]\n",
    "    else:\n",
    "        return row[col]"
   ]
  },
  {
   "cell_type": "code",
   "execution_count": 17,
   "metadata": {},
   "outputs": [
    {
     "name": "stdout",
     "output_type": "stream",
     "text": [
      "type\n",
      "Number of null values before cleaning: 132595\n",
      "Number of null values after cleaning: 86550\n",
      "manufacturer\n",
      "Number of null values before cleaning: 20075\n",
      "Number of null values after cleaning: 13351\n",
      "drive\n",
      "Number of null values before cleaning: 138610\n",
      "Number of null values after cleaning: 123336\n",
      "paint_color\n",
      "Number of null values before cleaning: 153444\n",
      "Number of null values after cleaning: 105353\n",
      "cylinders\n",
      "Number of null values before cleaning: 191744\n",
      "Number of null values after cleaning: 151210\n"
     ]
    }
   ],
   "source": [
    "# apply to column cleaner based on description columns listed below\n",
    "for col in [\"type\", \"manufacturer\", \"drive\", \"paint_color\", \"cylinders\"]:\n",
    "    print(col)\n",
    "    unique_values = vehiclesC[col].unique()\n",
    "    unique_values = [x for x in unique_values if str(x) != 'nan']\n",
    "\n",
    "    column_cleaned = vehiclesC.apply(column_cleaner, axis = 1)\n",
    "\n",
    "    \n",
    "    print(\"Number of null values before cleaning: \" + str(vehiclesC[col].isnull().sum()))\n",
    "    print(\"Number of null values after cleaning: \" + str(column_cleaned.isnull().sum()))\n",
    "    \n",
    "    #replaces the new cleaned column in dataset \n",
    "    vehiclesC[col] = column_cleaned"
   ]
  },
  {
   "cell_type": "code",
   "execution_count": 18,
   "metadata": {},
   "outputs": [],
   "source": [
    "#fill rest of missing values with distribution imputation from the\n",
    "# corresponding columns\n",
    "def quantitative_distribution(child, N):\n",
    "    \"\"\"\n",
    "    quantitative_distribution that takes in a Series and an integer\n",
    "    N > 0, and returns an array of N samples from the distribution of\n",
    "    values of the Series as described in the question.\n",
    "    \"\"\"   \n",
    "    p, bin_edges = np.histogram(child[~child.isnull()], bins = 10)\n",
    "    p = p / sum(p)\n",
    "    bin_width = np.diff(bin_edges)\n",
    "    \n",
    "    rand_choice = np.random.choice(bin_edges[:-1], size=N, replace=True, p=p)\n",
    "    \n",
    "    choices = [np.random.uniform(i, i+bin_width[0]) for i in rand_choice]\n",
    "    \n",
    "    return np.round_(list(np.array(choices)))\n",
    "\n",
    "def impute_height_quant(child):\n",
    "    \"\"\"\n",
    "    impute_height_quant takes in a Series of child heights\n",
    "    with missing values and imputes them using the scheme in\n",
    "    the question.\n",
    "    \"\"\"\n",
    "    num_null = child.isnull().sum() # number of nan vals\n",
    "\n",
    "    fill_vals = quantitative_distribution(child, num_null) \n",
    "    child[child.isnull()] = fill_vals\n",
    "\n",
    "    return child"
   ]
  },
  {
   "cell_type": "code",
   "execution_count": 19,
   "metadata": {
    "scrolled": true
   },
   "outputs": [
    {
     "name": "stdout",
     "output_type": "stream",
     "text": [
      "fuel\n",
      "number of null before data imputation: 3108\n",
      "number of null after data imputation: 0\n",
      "title_status\n",
      "number of null before data imputation: 2613\n",
      "number of null after data imputation: 0\n",
      "transmission\n",
      "number of null before data imputation: 3368\n",
      "number of null after data imputation: 0\n",
      "type\n",
      "number of null before data imputation: 86550\n",
      "number of null after data imputation: 0\n",
      "cylinders\n",
      "number of null before data imputation: 151210\n",
      "number of null after data imputation: 0\n",
      "manufacturer\n",
      "number of null before data imputation: 13351\n",
      "number of null after data imputation: 0\n",
      "drive\n",
      "number of null before data imputation: 123336\n",
      "number of null after data imputation: 0\n"
     ]
    }
   ],
   "source": [
    "#fill with distribution for columns listed below\n",
    "columns = [\"fuel\", \"title_status\", \"transmission\", \"type\",\"cylinders\", \"manufacturer\", \"drive\"]\n",
    "for col in columns:\n",
    "    print(col)\n",
    "    print(\"number of null before data imputation: \" + str(vehiclesC[col].isnull().sum()))\n",
    "    \n",
    "    unique_values = vehiclesC[col].unique()\n",
    "    unique_values = [x for x in unique_values if str(x) != 'nan']\n",
    "    unique_values = [x for x in unique_values if str(x) != \"None\"]\n",
    "\n",
    "    \n",
    "    dic = {}\n",
    "    for i in range(len(unique_values)):\n",
    "        dic[unique_values[i]] = i + 1\n",
    "\n",
    "    dic2 = {}\n",
    "    for j in range(len(unique_values)):\n",
    "        dic2[j+1] = unique_values[j]\n",
    "\n",
    "    \n",
    "    vehiclesC[col] = vehiclesC[col].replace(dic)\n",
    "    vehiclesC[col] = impute_height_quant(vehiclesC[col]).replace(dic2)\n",
    "    print(\"number of null after data imputation: \" + str(vehiclesC[col].isnull().sum()))"
   ]
  },
  {
   "cell_type": "code",
   "execution_count": 20,
   "metadata": {},
   "outputs": [],
   "source": [
    "#impute \"year\" column with distribution\n",
    "imputed_year_column = impute_height_quant(vehiclesC['year'])\n",
    "vehiclesC.year = imputed_year_column"
   ]
  },
  {
   "cell_type": "code",
   "execution_count": 22,
   "metadata": {},
   "outputs": [
    {
     "name": "stdout",
     "output_type": "stream",
     "text": [
      "Number of null values before cleaning: 84897\n",
      "Number of null values after cleaning: 1\n"
     ]
    }
   ],
   "source": [
    "# replace incorrect values with correct values\n",
    "vehiclesC['year'] = vehiclesC['year'].replace(0.0, 2019.0)\n",
    "vehiclesC['year'] = vehiclesC['year'].replace(1908.0, 2018.0)\n",
    "# get grouped odometer by year\n",
    "grpedYr_odoCount = vehiclesC.groupby('year')['odometer'].count()\n",
    "odometer_by_year = vehiclesC.groupby('year')['odometer'].median().drop(labels =[2021])\n",
    "# impute odometer by year\n",
    "def fill_odo_by_year(series):\n",
    "    if pd.isna(series['year']):\n",
    "        return series\n",
    "    if series['year'] == 2021.0:\n",
    "        series['odometer'] = 0\n",
    "        return series\n",
    "    if pd.isna(series['odometer']):\n",
    "        series['odometer'] = odometer_by_year[series['year']]\n",
    "        return series\n",
    "    else:\n",
    "        return series\n",
    "print(\"Number of null values before cleaning: \" + str(vehiclesC['odometer'].isnull().sum()))\n",
    "vehiclesC[['year','odometer']] = vehiclesC[['year','odometer']].agg(fill_odo_by_year,axis = 'columns')\n",
    "print(\"Number of null values after cleaning: \" + str(vehiclesC['odometer'].isnull().sum()))"
   ]
  },
  {
   "cell_type": "code",
   "execution_count": 23,
   "metadata": {},
   "outputs": [],
   "source": [
    "#remove outliers\n",
    "vehiclesC = vehiclesC[(vehiclesC['price'] > 500) & (vehiclesC['price'] < 500000)]\n",
    "vehiclesC = vehiclesC[vehiclesC['odometer'] < 500000]"
   ]
  },
  {
   "cell_type": "code",
   "execution_count": 24,
   "metadata": {},
   "outputs": [
    {
     "data": {
      "text/plain": [
       "region          0.000000\n",
       "price           0.000000\n",
       "year            0.000000\n",
       "manufacturer    0.000000\n",
       "cylinders       0.000000\n",
       "fuel            0.000000\n",
       "odometer        0.000000\n",
       "title_status    0.000000\n",
       "transmission    0.000000\n",
       "drive           0.000000\n",
       "type            0.000000\n",
       "state           0.000000\n",
       "description     0.000041\n",
       "model           0.014038\n",
       "paint_color     0.217271\n",
       "vin             0.422819\n",
       "dtype: float64"
      ]
     },
     "execution_count": 24,
     "metadata": {},
     "output_type": "execute_result"
    }
   ],
   "source": [
    "#prportion of missing values after distribtuion imputation\n",
    "(vehiclesC.isnull().sum()/vehiclesC.shape[0]).sort_values()"
   ]
  },
  {
   "cell_type": "markdown",
   "metadata": {},
   "source": [
    "# Create Model Ready Dataset"
   ]
  },
  {
   "cell_type": "code",
   "execution_count": null,
   "metadata": {},
   "outputs": [],
   "source": [
    "#cylinder column to ordinal data \n",
    "cylinder_dic = {'6 cylinders':5, '8 cylinders':6, '4 cylinders':3, 'other':1,\n",
    "        '5 cylinders':4, '3 cylinders':2, '10 cylinders':7, '12 cylinders':8}\n",
    "vehiclesC[\"cylinders\"] = vehiclesC[\"cylinders\"].replace(cylinder_dic)"
   ]
  },
  {
   "cell_type": "code",
   "execution_count": 28,
   "metadata": {},
   "outputs": [
    {
     "data": {
      "text/html": [
       "<div>\n",
       "<style scoped>\n",
       "    .dataframe tbody tr th:only-of-type {\n",
       "        vertical-align: middle;\n",
       "    }\n",
       "\n",
       "    .dataframe tbody tr th {\n",
       "        vertical-align: top;\n",
       "    }\n",
       "\n",
       "    .dataframe thead th {\n",
       "        text-align: right;\n",
       "    }\n",
       "</style>\n",
       "<table border=\"1\" class=\"dataframe\">\n",
       "  <thead>\n",
       "    <tr style=\"text-align: right;\">\n",
       "      <th></th>\n",
       "      <th>region</th>\n",
       "      <th>price</th>\n",
       "      <th>year</th>\n",
       "      <th>manufacturer</th>\n",
       "      <th>model</th>\n",
       "      <th>cylinders</th>\n",
       "      <th>fuel</th>\n",
       "      <th>odometer</th>\n",
       "      <th>title_status</th>\n",
       "      <th>transmission</th>\n",
       "      <th>vin</th>\n",
       "      <th>drive</th>\n",
       "      <th>type</th>\n",
       "      <th>paint_color</th>\n",
       "      <th>description</th>\n",
       "      <th>state</th>\n",
       "    </tr>\n",
       "  </thead>\n",
       "  <tbody>\n",
       "    <tr>\n",
       "      <th>0</th>\n",
       "      <td>greensboro</td>\n",
       "      <td>10299</td>\n",
       "      <td>2012.0</td>\n",
       "      <td>acura</td>\n",
       "      <td>tl</td>\n",
       "      <td>5</td>\n",
       "      <td>gas</td>\n",
       "      <td>90186.0</td>\n",
       "      <td>clean</td>\n",
       "      <td>automatic</td>\n",
       "      <td>19UUA8F22CA003926</td>\n",
       "      <td>4wd</td>\n",
       "      <td>other</td>\n",
       "      <td>blue</td>\n",
       "      <td>2012 Acura TL Base 4dr Sedan     Offered by: B...</td>\n",
       "      <td>nc</td>\n",
       "    </tr>\n",
       "    <tr>\n",
       "      <th>2</th>\n",
       "      <td>greensboro</td>\n",
       "      <td>9500</td>\n",
       "      <td>2011.0</td>\n",
       "      <td>jaguar</td>\n",
       "      <td>xf</td>\n",
       "      <td>5</td>\n",
       "      <td>gas</td>\n",
       "      <td>85000.0</td>\n",
       "      <td>clean</td>\n",
       "      <td>automatic</td>\n",
       "      <td>NaN</td>\n",
       "      <td>fwd</td>\n",
       "      <td>other</td>\n",
       "      <td>blue</td>\n",
       "      <td>2011 jaguar XF premium - estate sale. Retired ...</td>\n",
       "      <td>nc</td>\n",
       "    </tr>\n",
       "    <tr>\n",
       "      <th>3</th>\n",
       "      <td>greensboro</td>\n",
       "      <td>3995</td>\n",
       "      <td>2004.0</td>\n",
       "      <td>honda</td>\n",
       "      <td>element</td>\n",
       "      <td>5</td>\n",
       "      <td>gas</td>\n",
       "      <td>212526.0</td>\n",
       "      <td>clean</td>\n",
       "      <td>automatic</td>\n",
       "      <td>5J6YH18314L006498</td>\n",
       "      <td>fwd</td>\n",
       "      <td>SUV</td>\n",
       "      <td>orange</td>\n",
       "      <td>2004 Honda Element LX 4dr SUV     Offered by: ...</td>\n",
       "      <td>nc</td>\n",
       "    </tr>\n",
       "  </tbody>\n",
       "</table>\n",
       "</div>"
      ],
      "text/plain": [
       "       region  price    year manufacturer    model  cylinders fuel  odometer  \\\n",
       "0  greensboro  10299  2012.0        acura       tl          5  gas   90186.0   \n",
       "2  greensboro   9500  2011.0       jaguar       xf          5  gas   85000.0   \n",
       "3  greensboro   3995  2004.0        honda  element          5  gas  212526.0   \n",
       "\n",
       "  title_status transmission                vin drive   type paint_color  \\\n",
       "0        clean    automatic  19UUA8F22CA003926   4wd  other        blue   \n",
       "2        clean    automatic                NaN   fwd  other        blue   \n",
       "3        clean    automatic  5J6YH18314L006498   fwd    SUV      orange   \n",
       "\n",
       "                                         description state  \n",
       "0  2012 Acura TL Base 4dr Sedan     Offered by: B...    nc  \n",
       "2  2011 jaguar XF premium - estate sale. Retired ...    nc  \n",
       "3  2004 Honda Element LX 4dr SUV     Offered by: ...    nc  "
      ]
     },
     "execution_count": 28,
     "metadata": {},
     "output_type": "execute_result"
    }
   ],
   "source": [
    "#create a copy of cleaned dataset\n",
    "vehmodel = vehiclesC.copy()\n",
    "vehmodel.head(3)"
   ]
  },
  {
   "cell_type": "code",
   "execution_count": 29,
   "metadata": {},
   "outputs": [],
   "source": [
    "#drop columns- those that still have null values\n",
    "vehmodel = vehmodel.drop([\"model\", \"vin\", \"description\", \"paint_color\"], axis = 1)"
   ]
  },
  {
   "cell_type": "code",
   "execution_count": 30,
   "metadata": {},
   "outputs": [],
   "source": [
    "#label out feature types\n",
    "ordinal_cols = [\"cylinders\", \"year\"]\n",
    "categorical_cols = [\"region\", \"manufacturer\", \"fuel\", \"title_status\", \"transmission\", \"drive\", \"type\", \"state\"]\n",
    "numerical_cols = [\"odometer\"]"
   ]
  },
  {
   "cell_type": "markdown",
   "metadata": {},
   "source": [
    "Data Types:\n",
    "    - region: categorical\n",
    "    - year: categorical/ordinal\n",
    "    - manufacturer: categorical \n",
    "    - model: categorical\n",
    "    - cylinders: categorical  \n",
    "    - fuel: categorical \n",
    "     - odometer: numerical\n",
    "     - title_status: categorical \n",
    "     - transmission: categorical  \n",
    "     - drive: categorical \n",
    "     - type: categorical \n",
    "     - paint_color: categorical \n",
    "     - state: categorical "
   ]
  },
  {
   "cell_type": "code",
   "execution_count": 31,
   "metadata": {},
   "outputs": [],
   "source": [
    "#ordianl encode categorical variables\n",
    "for col in categorical_cols:\n",
    "    unique_values = vehmodel[col].unique()\n",
    "    \n",
    "    dic = {}\n",
    "    for i in range(len(unique_values)):\n",
    "        dic[unique_values[i]] = i + 1\n",
    "\n",
    "    vehmodel[col] = vehmodel[col].replace(dic)"
   ]
  },
  {
   "cell_type": "code",
   "execution_count": 32,
   "metadata": {},
   "outputs": [
    {
     "data": {
      "text/plain": [
       "region          0.0\n",
       "price           0.0\n",
       "year            0.0\n",
       "manufacturer    0.0\n",
       "cylinders       0.0\n",
       "fuel            0.0\n",
       "odometer        0.0\n",
       "title_status    0.0\n",
       "transmission    0.0\n",
       "drive           0.0\n",
       "type            0.0\n",
       "state           0.0\n",
       "dtype: float64"
      ]
     },
     "execution_count": 32,
     "metadata": {},
     "output_type": "execute_result"
    }
   ],
   "source": [
    "#double checking one last time the features have no null values\n",
    "(vehmodel.isnull().sum()/vehmodel.shape[0]).sort_values()"
   ]
  },
  {
   "cell_type": "code",
   "execution_count": 33,
   "metadata": {},
   "outputs": [
    {
     "data": {
      "text/html": [
       "<div>\n",
       "<style scoped>\n",
       "    .dataframe tbody tr th:only-of-type {\n",
       "        vertical-align: middle;\n",
       "    }\n",
       "\n",
       "    .dataframe tbody tr th {\n",
       "        vertical-align: top;\n",
       "    }\n",
       "\n",
       "    .dataframe thead th {\n",
       "        text-align: right;\n",
       "    }\n",
       "</style>\n",
       "<table border=\"1\" class=\"dataframe\">\n",
       "  <thead>\n",
       "    <tr style=\"text-align: right;\">\n",
       "      <th></th>\n",
       "      <th>region</th>\n",
       "      <th>price</th>\n",
       "      <th>year</th>\n",
       "      <th>manufacturer</th>\n",
       "      <th>cylinders</th>\n",
       "      <th>fuel</th>\n",
       "      <th>odometer</th>\n",
       "      <th>title_status</th>\n",
       "      <th>transmission</th>\n",
       "      <th>drive</th>\n",
       "      <th>type</th>\n",
       "      <th>state</th>\n",
       "    </tr>\n",
       "  </thead>\n",
       "  <tbody>\n",
       "    <tr>\n",
       "      <th>0</th>\n",
       "      <td>1</td>\n",
       "      <td>10299</td>\n",
       "      <td>2012.0</td>\n",
       "      <td>1</td>\n",
       "      <td>5</td>\n",
       "      <td>1</td>\n",
       "      <td>90186.0</td>\n",
       "      <td>1</td>\n",
       "      <td>1</td>\n",
       "      <td>1</td>\n",
       "      <td>1</td>\n",
       "      <td>1</td>\n",
       "    </tr>\n",
       "    <tr>\n",
       "      <th>2</th>\n",
       "      <td>1</td>\n",
       "      <td>9500</td>\n",
       "      <td>2011.0</td>\n",
       "      <td>2</td>\n",
       "      <td>5</td>\n",
       "      <td>1</td>\n",
       "      <td>85000.0</td>\n",
       "      <td>1</td>\n",
       "      <td>1</td>\n",
       "      <td>2</td>\n",
       "      <td>1</td>\n",
       "      <td>1</td>\n",
       "    </tr>\n",
       "    <tr>\n",
       "      <th>3</th>\n",
       "      <td>1</td>\n",
       "      <td>3995</td>\n",
       "      <td>2004.0</td>\n",
       "      <td>3</td>\n",
       "      <td>5</td>\n",
       "      <td>1</td>\n",
       "      <td>212526.0</td>\n",
       "      <td>1</td>\n",
       "      <td>1</td>\n",
       "      <td>2</td>\n",
       "      <td>2</td>\n",
       "      <td>1</td>\n",
       "    </tr>\n",
       "    <tr>\n",
       "      <th>4</th>\n",
       "      <td>2</td>\n",
       "      <td>41988</td>\n",
       "      <td>2016.0</td>\n",
       "      <td>4</td>\n",
       "      <td>6</td>\n",
       "      <td>1</td>\n",
       "      <td>48828.0</td>\n",
       "      <td>1</td>\n",
       "      <td>1</td>\n",
       "      <td>1</td>\n",
       "      <td>3</td>\n",
       "      <td>2</td>\n",
       "    </tr>\n",
       "    <tr>\n",
       "      <th>5</th>\n",
       "      <td>1</td>\n",
       "      <td>12995</td>\n",
       "      <td>2015.0</td>\n",
       "      <td>5</td>\n",
       "      <td>1</td>\n",
       "      <td>1</td>\n",
       "      <td>85127.0</td>\n",
       "      <td>1</td>\n",
       "      <td>1</td>\n",
       "      <td>1</td>\n",
       "      <td>4</td>\n",
       "      <td>1</td>\n",
       "    </tr>\n",
       "  </tbody>\n",
       "</table>\n",
       "</div>"
      ],
      "text/plain": [
       "   region  price    year  manufacturer  cylinders  fuel  odometer  \\\n",
       "0       1  10299  2012.0             1          5     1   90186.0   \n",
       "2       1   9500  2011.0             2          5     1   85000.0   \n",
       "3       1   3995  2004.0             3          5     1  212526.0   \n",
       "4       2  41988  2016.0             4          6     1   48828.0   \n",
       "5       1  12995  2015.0             5          1     1   85127.0   \n",
       "\n",
       "   title_status  transmission  drive  type  state  \n",
       "0             1             1      1     1      1  \n",
       "2             1             1      2     1      1  \n",
       "3             1             1      2     2      1  \n",
       "4             1             1      1     3      2  \n",
       "5             1             1      1     4      1  "
      ]
     },
     "execution_count": 33,
     "metadata": {},
     "output_type": "execute_result"
    }
   ],
   "source": [
    "vehmodel.head()"
   ]
  },
  {
   "cell_type": "code",
   "execution_count": 199,
   "metadata": {},
   "outputs": [],
   "source": [
    "from sklearn.linear_model import LinearRegression\n",
    "from sklearn.model_selection import train_test_split\n",
    "from sklearn.metrics import mean_squared_error, r2_score\n",
    "from sklearn.tree import DecisionTreeRegressor\n",
    "from sklearn.compose import ColumnTransformer\n",
    "from sklearn.preprocessing import OneHotEncoder,FunctionTransformer,Binarizer, QuantileTransformer, OrdinalEncoder\n",
    "from sklearn.pipeline import Pipeline\n",
    "from sklearn.ensemble import RandomForestRegressor\n",
    "from sklearn.ensemble import AdaBoostRegressor\n",
    "from sklearn.datasets import make_regression\n",
    "\n",
    "#need pip install xgboost beforehand\n",
    "import xgboost as xgb\n",
    "from xgboost.sklearn import XGBRegressor\n",
    "\n",
    "#need pip install lightgbm beforehand\n",
    "from lightgbm import LGBMRegressor"
   ]
  },
  {
   "cell_type": "markdown",
   "metadata": {},
   "source": [
    "# Baseline Model: Linear Regression"
   ]
  },
  {
   "cell_type": "code",
   "execution_count": 100,
   "metadata": {
    "scrolled": true
   },
   "outputs": [],
   "source": [
    "#fit linear model through dataset\n",
    "X = vehmodel.drop([\"price\"], axis = 1)\n",
    "y = vehmodel.price\n",
    "\n",
    "X_train, X_test, y_train, y_test = train_test_split(X, y, test_size=0.25)\n",
    "reg = LinearRegression().fit(X_train, y_train)\n",
    "reg_r2_test = reg.score(X_test, y_test)\n",
    "reg_r2_train = reg.score(X_test, y_test)"
   ]
  },
  {
   "cell_type": "code",
   "execution_count": 102,
   "metadata": {},
   "outputs": [
    {
     "data": {
      "text/plain": [
       "(0.40252355139696183, 0.40252355139696183)"
      ]
     },
     "execution_count": 102,
     "metadata": {},
     "output_type": "execute_result"
    }
   ],
   "source": [
    "#r2 for linear model\n",
    "reg_r2_train,reg_r2_test"
   ]
  },
  {
   "cell_type": "code",
   "execution_count": 103,
   "metadata": {},
   "outputs": [
    {
     "data": {
      "text/plain": [
       "(9479.359335998517, 8952.624398702588)"
      ]
     },
     "execution_count": 103,
     "metadata": {},
     "output_type": "execute_result"
    }
   ],
   "source": [
    "y_true = y_test\n",
    "y_pred_reg_test = reg.predict(X_test)\n",
    "y_pred_reg_train = reg.predict(X_train)\n",
    "\n",
    "rmse_test_reg = np.sqrt(mean_squared_error(y_true, y_pred_reg_test))\n",
    "rmse_train_reg = np.sqrt(mean_squared_error(y_train, y_pred_reg_train))\n",
    "#rmse for linear model\n",
    "rmse_train_reg,rmse_test_reg"
   ]
  },
  {
   "cell_type": "markdown",
   "metadata": {},
   "source": [
    "# DecisionTree Regressor"
   ]
  },
  {
   "cell_type": "code",
   "execution_count": 104,
   "metadata": {},
   "outputs": [],
   "source": [
    "vehmodel = vehiclesC.copy()"
   ]
  },
  {
   "cell_type": "code",
   "execution_count": 105,
   "metadata": {},
   "outputs": [
    {
     "data": {
      "text/plain": [
       "(0.6042280522659349, 0.9996561121620678)"
      ]
     },
     "execution_count": 105,
     "metadata": {},
     "output_type": "execute_result"
    }
   ],
   "source": [
    "#DecisionTree Regressor\n",
    "preproc = ColumnTransformer(transformers=[\n",
    "                                          ('encode', OneHotEncoder(handle_unknown = 'ignore'),\n",
    "                                           ['region','manufacturer','fuel','title_status','transmission','drive','type','state']),\n",
    "                                           ('functiontrans', FunctionTransformer(),['cylinders','year','odometer'])\n",
    "                                         ])\n",
    "regr = DecisionTreeRegressor()\n",
    "pl = Pipeline(steps = [('preprocessor',preproc),\n",
    "                       ('baseline regression', regr)])\n",
    "X = vehmodel.drop([\"price\"], axis = 1)\n",
    "y = vehmodel.price\n",
    "X_train, X_test, y_train, y_test = train_test_split(X, y, test_size=0.25)\n",
    "dec_tree_reg = pl.fit(X_train,y_train)\n",
    "\n",
    "dec_tree_reg_r2_train = dec_tree_reg.score(X_test,y_test)\n",
    "dec_tree_reg_r2_test = dec_tree_reg.score(X_train,y_train)\n",
    "#r2 for decision tree\n",
    "dec_tree_reg_r2_train, dec_tree_reg_r2_test"
   ]
  },
  {
   "cell_type": "code",
   "execution_count": 106,
   "metadata": {},
   "outputs": [
    {
     "data": {
      "text/plain": [
       "(221.52484274828808, 7417.984583213919)"
      ]
     },
     "execution_count": 106,
     "metadata": {},
     "output_type": "execute_result"
    }
   ],
   "source": [
    "y_true = y_test\n",
    "y_pred_dec_test = dec_tree_reg.predict(X_test)\n",
    "y_pred_dec_train = dec_tree_reg.predict(X_train)\n",
    "rmse_test_dec = np.sqrt(mean_squared_error(y_true, y_pred_dec_test))\n",
    "rmse_train_dec = np.sqrt(mean_squared_error(y_train, y_pred_dec_train))\n",
    "#rmse for decision tree\n",
    "rmse_train_dec,rmse_test_dec"
   ]
  },
  {
   "cell_type": "markdown",
   "metadata": {},
   "source": [
    "# Random Forest Tree"
   ]
  },
  {
   "cell_type": "code",
   "execution_count": 133,
   "metadata": {},
   "outputs": [
    {
     "data": {
      "text/plain": [
       "Pipeline(memory=None,\n",
       "         steps=[('preprocessor',\n",
       "                 ColumnTransformer(n_jobs=None, remainder='drop',\n",
       "                                   sparse_threshold=0.3,\n",
       "                                   transformer_weights=None,\n",
       "                                   transformers=[('cat',\n",
       "                                                  Pipeline(memory=None,\n",
       "                                                           steps=[('one-hot',\n",
       "                                                                   OneHotEncoder(categories='auto',\n",
       "                                                                                 drop=None,\n",
       "                                                                                 dtype=<class 'numpy.float64'>,\n",
       "                                                                                 handle_unknown='ignore',\n",
       "                                                                                 sparse=True))],\n",
       "                                                           verbose=False),\n",
       "                                                  ['region', 'year',\n",
       "                                                   'manufactur...\n",
       "                 RandomForestRegressor(bootstrap=True, ccp_alpha=0.0,\n",
       "                                       criterion='mse', max_depth=None,\n",
       "                                       max_features='auto', max_leaf_nodes=None,\n",
       "                                       max_samples=None,\n",
       "                                       min_impurity_decrease=0.0,\n",
       "                                       min_impurity_split=None,\n",
       "                                       min_samples_leaf=1, min_samples_split=2,\n",
       "                                       min_weight_fraction_leaf=0.0,\n",
       "                                       n_estimators=1, n_jobs=None,\n",
       "                                       oob_score=False, random_state=None,\n",
       "                                       verbose=0, warm_start=False))],\n",
       "         verbose=False)"
      ]
     },
     "execution_count": 133,
     "metadata": {},
     "output_type": "execute_result"
    }
   ],
   "source": [
    "#categorical_columns\n",
    "cat_cols = [\"region\", 'year', 'manufacturer', 'fuel', 'title_status', 'transmission', 'drive', 'type','state']\n",
    "cat_transform = Pipeline([('one-hot', OneHotEncoder(handle_unknown = 'ignore'))])\n",
    "\n",
    "#func trans \n",
    "func_trans_cols = ['cylinders','odometer']\n",
    "func_transform = Pipeline([('func-transform', FunctionTransformer())])\n",
    "\n",
    "#column transformer\n",
    "preproc = ColumnTransformer(transformers=[('cat', cat_transform, cat_cols), \\\n",
    "                                          ('func', func_transform, func_trans_cols)\n",
    "                                         ]) \n",
    "\n",
    "#pipeline to return \n",
    "pl = Pipeline(steps=[('preprocessor', preproc), ('tree', RandomForestRegressor(1))])\n",
    "\n",
    "#setting X and y\n",
    "X = vehmodel.drop('price', axis=1)\n",
    "y = vehmodel['price']\n",
    "\n",
    "# fit and predict price\n",
    "X_train, X_test, y_train, y_test = train_test_split(X, y, test_size=0.25)\n",
    "pl.fit(X_train, y_train)"
   ]
  },
  {
   "cell_type": "code",
   "execution_count": 134,
   "metadata": {},
   "outputs": [
    {
     "data": {
      "text/plain": [
       "(0.8348570459453719, 0.5744738364403519)"
      ]
     },
     "execution_count": 134,
     "metadata": {},
     "output_type": "execute_result"
    }
   ],
   "source": [
    "ran_tree_reg_r2_train = pl.score(X_train,y_train)\n",
    "ran_tree_reg_r2_test = pl.score(X_test,y_test)\n",
    "#random forest r2\n",
    "ran_tree_reg_r2_train, ran_tree_reg_r2_test"
   ]
  },
  {
   "cell_type": "code",
   "execution_count": 135,
   "metadata": {
    "scrolled": true
   },
   "outputs": [
    {
     "data": {
      "text/plain": [
       "(4840.583062283251, 7759.233335958982)"
      ]
     },
     "execution_count": 135,
     "metadata": {},
     "output_type": "execute_result"
    }
   ],
   "source": [
    "train_pred = pl.predict(X_train)\n",
    "ran_tree_train_rmse = np.sqrt(mean_squared_error(y_train, train_pred))\n",
    "\n",
    "tester_pred = pl.predict(X_test)\n",
    "ran_tree_tester_rmse = np.sqrt(mean_squared_error(y_test, tester_pred))\n",
    "#random forest rmse\n",
    "ran_tree_train_rmse,ran_tree_tester_rmse"
   ]
  },
  {
   "cell_type": "markdown",
   "metadata": {},
   "source": [
    "# AdaBoost Regressor"
   ]
  },
  {
   "cell_type": "code",
   "execution_count": 168,
   "metadata": {},
   "outputs": [
    {
     "data": {
      "text/plain": [
       "AdaBoostRegressor(base_estimator=None, learning_rate=1.0, loss='linear',\n",
       "                  n_estimators=100, random_state=0)"
      ]
     },
     "execution_count": 168,
     "metadata": {},
     "output_type": "execute_result"
    }
   ],
   "source": [
    "#using all columns \n",
    "X = vehmodel.drop([\"price\"], axis = 1)\n",
    "y = vehmodel.price\n",
    "X_train, X_test, y_train, y_test = train_test_split(X, y, test_size=0.25)\n",
    "regr = AdaBoostRegressor(n_estimators=100, random_state=0)\n",
    "regr.fit(X_train, y_train)"
   ]
  },
  {
   "cell_type": "code",
   "execution_count": 169,
   "metadata": {},
   "outputs": [
    {
     "data": {
      "text/plain": [
       "(11450.617358379035, 11582.107576032395)"
      ]
     },
     "execution_count": 169,
     "metadata": {},
     "output_type": "execute_result"
    }
   ],
   "source": [
    "#rmse \n",
    "train_pred = regr.predict(X_train)\n",
    "ada_tree_train_rmse = np.sqrt(mean_squared_error(y_train, train_pred))\n",
    "tester_pred = regr.predict(X_test)\n",
    "ada_tree_tester_rmse = np.sqrt(mean_squared_error(y_test, tester_pred))\n",
    "ada_tree_train_rmse,ada_tree_tester_rmse"
   ]
  },
  {
   "cell_type": "code",
   "execution_count": 171,
   "metadata": {},
   "outputs": [
    {
     "data": {
      "text/plain": [
       "(0.07247651367609853, 0.062272876995415505)"
      ]
     },
     "execution_count": 171,
     "metadata": {},
     "output_type": "execute_result"
    }
   ],
   "source": [
    "ada_tree_reg_r2_train = regr.score(X_train,y_train)\n",
    "ada_tree_reg_r2_test = regr.score(X_test,y_test)\n",
    "ada_tree_reg_r2_train, ada_tree_reg_r2_test"
   ]
  },
  {
   "cell_type": "markdown",
   "metadata": {},
   "source": [
    "# XGboostRegressor"
   ]
  },
  {
   "cell_type": "code",
   "execution_count": 142,
   "metadata": {},
   "outputs": [
    {
     "data": {
      "text/plain": [
       "0.6990823941874625"
      ]
     },
     "execution_count": 142,
     "metadata": {},
     "output_type": "execute_result"
    }
   ],
   "source": [
    "#categorical_columns, \n",
    "cat_cols = [\"region\", 'year', 'manufacturer', 'fuel', 'title_status', 'transmission', 'drive', 'type','state']\n",
    "cat_transform = Pipeline([('one-hot', OneHotEncoder(handle_unknown = 'ignore'))])\n",
    "\n",
    "#func trans\n",
    "func_trans_cols = ['cylinders','odometer']\n",
    "func_transform = Pipeline([('func-transform', FunctionTransformer())])\n",
    "\n",
    "# ordinal encode\n",
    "ord_trans_cols = ['cylinders']\n",
    "ord_transform = Pipeline([('ordinal', OrdinalEncoder())])\n",
    "\n",
    "#column transformer\n",
    "preproc = ColumnTransformer(\n",
    "    transformers=[('cat', cat_transform, cat_cols),\n",
    "                  ('func', func_transform, func_trans_cols),\n",
    "                ('ord', ord_transform, ord_trans_cols)\n",
    "                ]) \n",
    "\n",
    "#pipeline to return \n",
    "pl = Pipeline(steps=[('preprocessor', preproc),\n",
    "                     ('tree', xgb.XGBRegressor(colsample_bytree=0.7, \n",
    "                                               gamma=0.2, learning_rate=0.1,\n",
    "                                               max_depth=6, n_estimators=700,\n",
    "                                               random_state=4))])\n",
    "\n",
    "#setting X and y\n",
    "X = vehmodel.drop('price', axis=1)\n",
    "y = vehmodel['price']\n",
    "\n",
    "# fit and predict price\n",
    "X_train, X_test, y_train, y_test = train_test_split(X, y, test_size=0.25)\n",
    "xgb_fitted = pl.fit(X_train, y_train)"
   ]
  },
  {
   "cell_type": "code",
   "execution_count": 143,
   "metadata": {},
   "outputs": [
    {
     "data": {
      "text/plain": [
       "(0.803916641599715, 0.6990823941874625)"
      ]
     },
     "execution_count": 143,
     "metadata": {},
     "output_type": "execute_result"
    }
   ],
   "source": [
    "xg_tree_reg_r2_train = xgb_fitted.score(X_train,y_train)\n",
    "xg_tree_reg_r2_test = xgb_fitted.score(X_test,y_test)\n",
    "# r2 for xg\n",
    "xg_tree_reg_r2_train, xg_tree_reg_r2_test"
   ]
  },
  {
   "cell_type": "code",
   "execution_count": 144,
   "metadata": {},
   "outputs": [
    {
     "data": {
      "text/plain": [
       "(5243.03333260902, 6641.016907704669)"
      ]
     },
     "execution_count": 144,
     "metadata": {},
     "output_type": "execute_result"
    }
   ],
   "source": [
    "y_true = y_test\n",
    "y_pred_xg_test = xgb_fitted.predict(X_test)\n",
    "y_pred_xg_train = xgb_fitted.predict(X_train)\n",
    "\n",
    "#rmse for xg\n",
    "rmse_test_xg = np.sqrt(mean_squared_error(y_true, y_pred_xg_test))\n",
    "rmse_train_xg = np.sqrt(mean_squared_error(y_train, y_pred_xg_train))\n",
    "rmse_train_xg,rmse_test_xg"
   ]
  },
  {
   "cell_type": "markdown",
   "metadata": {},
   "source": [
    "# LGBMRegressor"
   ]
  },
  {
   "cell_type": "code",
   "execution_count": 259,
   "metadata": {},
   "outputs": [
    {
     "data": {
      "text/plain": [
       "(0.7956762563509152, 0.7330594225617151)"
      ]
     },
     "execution_count": 259,
     "metadata": {},
     "output_type": "execute_result"
    }
   ],
   "source": [
    "#LGBM Regressor\n",
    "preproc = ColumnTransformer(transformers=[\n",
    "                                          ('encode', OneHotEncoder(handle_unknown = 'ignore'),\n",
    "                                           ['region','manufacturer','fuel','title_status','transmission','drive','type','state']),\n",
    "                                           ('functiontrans', FunctionTransformer(),['cylinders','year','odometer'])\n",
    "                                         ])\n",
    "regr = LGBMRegressor(task = 'prediction', num_leaves = 100, max_bin = 600,max_depth = 30, min_data_in_leaf = 5)\n",
    "pl = Pipeline(steps = [('preprocessor',preproc),\n",
    "                       ('baseline regression', regr)])\n",
    "X = vehmodel.drop([\"price\"], axis = 1)\n",
    "y = vehmodel.price\n",
    "X_train, X_test, y_train, y_test = train_test_split(X, y, test_size=0.25)\n",
    "lgbm_reg = pl.fit(X_train,y_train)\n",
    "\n",
    "lgbm_r2_test = lgbm_reg.score(X_test,y_test)\n",
    "lgbm_r2_train = lgbm_reg.score(X_train,y_train)\n",
    "#r2 score for lgbm\n",
    "lgbm_r2_train,lgbm_r2_test"
   ]
  },
  {
   "cell_type": "code",
   "execution_count": 260,
   "metadata": {},
   "outputs": [
    {
     "data": {
      "text/plain": [
       "(5401.726634863238, 6085.210714896427)"
      ]
     },
     "execution_count": 260,
     "metadata": {},
     "output_type": "execute_result"
    }
   ],
   "source": [
    "y_true = y_test\n",
    "y_pred = lgbm_reg.predict(X_test)\n",
    "\n",
    "y_true_train = y_train\n",
    "y_pred_train = lgbm_reg.predict(X_train)\n",
    "lgbm_test_rmse = np.sqrt(mean_squared_error(y_true, y_pred))\n",
    "lgbm_train_rmse = np.sqrt(mean_squared_error(y_true_train, y_pred_train))\n",
    "#rmse for lgbm\n",
    "lgbm_train_rmse,lgbm_test_rmse"
   ]
  },
  {
   "cell_type": "code",
   "execution_count": 261,
   "metadata": {},
   "outputs": [],
   "source": [
    "result_dic = {'Linear':[rmse_train_reg,rmse_test_reg,reg_r2_train,reg_r2_test],\n",
    "'DecisionTree':[rmse_train_dec,rmse_test_dec,dec_tree_reg_r2_train, dec_tree_reg_r2_test],\n",
    "'RandomForest':[ran_tree_train_rmse,ran_tree_tester_rmse,ran_tree_reg_r2_train, ran_tree_reg_r2_test],\n",
    "'Adaboost':[ada_tree_train_rmse,ada_tree_tester_rmse,ada_tree_reg_r2_train, ada_tree_reg_r2_test],\n",
    "'XGBoost':[rmse_train_xg,rmse_test_xg,xg_tree_reg_r2_train, xg_tree_reg_r2_test],\n",
    "'LGBMRegressor':[lgbm_train_rmse,lgbm_test_rmse,lgbm_r2_train,lgbm_r2_test]}\n",
    "result_df = pd.DataFrame(result_dic).T\n",
    "result_df.columns = ['RMSE(training)','RMSE(testing)','R2(training)','R2(testing)']"
   ]
  },
  {
   "cell_type": "code",
   "execution_count": 262,
   "metadata": {},
   "outputs": [
    {
     "data": {
      "text/html": [
       "<div>\n",
       "<style scoped>\n",
       "    .dataframe tbody tr th:only-of-type {\n",
       "        vertical-align: middle;\n",
       "    }\n",
       "\n",
       "    .dataframe tbody tr th {\n",
       "        vertical-align: top;\n",
       "    }\n",
       "\n",
       "    .dataframe thead th {\n",
       "        text-align: right;\n",
       "    }\n",
       "</style>\n",
       "<table border=\"1\" class=\"dataframe\">\n",
       "  <thead>\n",
       "    <tr style=\"text-align: right;\">\n",
       "      <th></th>\n",
       "      <th>RMSE(training)</th>\n",
       "      <th>RMSE(testing)</th>\n",
       "      <th>R2(training)</th>\n",
       "      <th>R2(testing)</th>\n",
       "    </tr>\n",
       "  </thead>\n",
       "  <tbody>\n",
       "    <tr>\n",
       "      <th>Linear</th>\n",
       "      <td>9479.359336</td>\n",
       "      <td>8952.624399</td>\n",
       "      <td>0.402524</td>\n",
       "      <td>0.402524</td>\n",
       "    </tr>\n",
       "    <tr>\n",
       "      <th>DecisionTree</th>\n",
       "      <td>221.524843</td>\n",
       "      <td>7417.984583</td>\n",
       "      <td>0.604228</td>\n",
       "      <td>0.999656</td>\n",
       "    </tr>\n",
       "    <tr>\n",
       "      <th>RandomForest</th>\n",
       "      <td>4840.583062</td>\n",
       "      <td>7759.233336</td>\n",
       "      <td>0.834857</td>\n",
       "      <td>0.574474</td>\n",
       "    </tr>\n",
       "    <tr>\n",
       "      <th>Adaboost</th>\n",
       "      <td>11450.617358</td>\n",
       "      <td>11582.107576</td>\n",
       "      <td>0.072477</td>\n",
       "      <td>0.062273</td>\n",
       "    </tr>\n",
       "    <tr>\n",
       "      <th>XGBoost</th>\n",
       "      <td>5243.033333</td>\n",
       "      <td>6641.016908</td>\n",
       "      <td>0.803917</td>\n",
       "      <td>0.699082</td>\n",
       "    </tr>\n",
       "    <tr>\n",
       "      <th>LGBMRegressor</th>\n",
       "      <td>5401.726635</td>\n",
       "      <td>6085.210715</td>\n",
       "      <td>0.795676</td>\n",
       "      <td>0.733059</td>\n",
       "    </tr>\n",
       "  </tbody>\n",
       "</table>\n",
       "</div>"
      ],
      "text/plain": [
       "               RMSE(training)  RMSE(testing)  R2(training)  R2(testing)\n",
       "Linear            9479.359336    8952.624399      0.402524     0.402524\n",
       "DecisionTree       221.524843    7417.984583      0.604228     0.999656\n",
       "RandomForest      4840.583062    7759.233336      0.834857     0.574474\n",
       "Adaboost         11450.617358   11582.107576      0.072477     0.062273\n",
       "XGBoost           5243.033333    6641.016908      0.803917     0.699082\n",
       "LGBMRegressor     5401.726635    6085.210715      0.795676     0.733059"
      ]
     },
     "execution_count": 262,
     "metadata": {},
     "output_type": "execute_result"
    }
   ],
   "source": [
    "result_df"
   ]
  }
 ],
 "metadata": {
  "kernelspec": {
   "display_name": "Python 3",
   "language": "python",
   "name": "python3"
  },
  "language_info": {
   "codemirror_mode": {
    "name": "ipython",
    "version": 3
   },
   "file_extension": ".py",
   "mimetype": "text/x-python",
   "name": "python",
   "nbconvert_exporter": "python",
   "pygments_lexer": "ipython3",
   "version": "3.7.6"
  }
 },
 "nbformat": 4,
 "nbformat_minor": 2
}
